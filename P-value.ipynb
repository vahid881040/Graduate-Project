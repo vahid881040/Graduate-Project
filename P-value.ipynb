{
 "cells": [
  {
   "cell_type": "markdown",
   "metadata": {},
   "source": [
    "## P-Values"
   ]
  },
  {
   "cell_type": "code",
   "execution_count": null,
   "metadata": {},
   "outputs": [],
   "source": [
    "import pandas as pd\n",
    "import seaborn as sns\n",
    "\n",
    "filepath = 'C:\\\\Users\\\\Snapp-Kitchen\\\\Desktop\\\\data set paper.csv'\n",
    "df = pd.read_csv(filepath)\n",
    "filepath_1 = 'C:\\\\Users\\\\Snapp-Kitchen\\\\Desktop\\\\Graduate Project\\\\Supplemental_Spreadsheet dataset jadid.csv'\n",
    "df_1 = pd.read_csv(filepath_1)\n",
    "df = df.drop('NO.', axis = 1)\n",
    "df['Sex,  Female/Male'] = df['Sex,  Female/Male'].map({'Male': 1, 'Female': 0})\n",
    "df['Lateral/Bifurcation'] = df['Lateral/Bifurcation'].map({'Bifurcation': 1, 'Lateral': 0})\n",
    "df['Regular/Irregular'] = df['Regular/Irregular'].map({'Regular': 1, 'Irregular': 0})\n",
    "df['Stable Flow/Unstable Flow'] = df['Stable Flow/Unstable Flow'].map({'Stable': 1, 'Unstable': 0})\n",
    "df['Simple Flow/Complex Flow'] = df['Simple Flow/Complex Flow'].map({'Simple': 1, 'Complex': 0})\n",
    "site_mapping = {\n",
    "    'L MCA': 1, 'L C7': 2, 'R MCA': 3, 'R C7 (1)': 4, 'R C7 (2)': 5,\n",
    "    'R C7': 6, 'R C5': 7, 'L ACoA': 8, 'L C5': 9, 'R C6': 10,\n",
    "    'L C4': 11, 'R C4': 12, 'L C6': 13, 'LC6': 14, 'R ACoA': 15,\n",
    "    'BA': 16, 'L C4 (1)': 17, 'L C4 (2)': 18, 'L C6 ': 19,\n",
    "    'L C7  ': 20, 'R ACA': 21, 'L ACA (1)': 22, 'L ACA (2)': 23,\n",
    "    'R PCA': 24\n",
    "}\n",
    "df['Site'] = df['Site'].map(site_mapping)\n",
    "df['Rupture, yes/no'] = df['Rupture, yes/no'].map({'yes': 1, 'no': 0})\n",
    "\n",
    "df_1['Sex'] = df_1['Sex'].map({'male': 1, 'female': 0})\n",
    "df_1['Unstable Flow Pattern'] = df_1['Unstable Flow Pattern'].map({'stable': 1, 'unstable': 0})\n",
    "df_1['Complex Flow Pattern'] = df_1['Complex Flow Pattern'].map({'simple': 1, 'complex': 0})\n",
    "df_1['Rupture Status'] = df_1['Rupture Status'].map({'ruptured': 1, 'unruptured': 0})\n",
    "df_1['Irregular Shape'] = df_1['Irregular Shape'].map({'smooth': 1, 'irregular': 0})\n",
    "location_mapping = {'ACA': 1, 'IC': 2, 'MCA': 3, 'VA, BA and PCA': 4}  \n",
    "df_1['location_mapped'] = df_1['Location'].map(location_mapping)\n",
    "df_1 = df_1.drop(columns='Location')\n",
    "df_filtered = df_1[df_1['Aspect Ratio'] <= 3.5]\n",
    "df_1 = df_filtered\n",
    "df_filtered = df_1[df_1['Maximum Size'] <= 18.5]\n",
    "df_1 = df_filtered\n",
    "\t"
   ]
  }
 ],
 "metadata": {
  "language_info": {
   "name": "python"
  }
 },
 "nbformat": 4,
 "nbformat_minor": 2
}
